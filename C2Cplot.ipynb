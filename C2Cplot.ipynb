{
 "cells": [
  {
   "cell_type": "markdown",
   "metadata": {},
   "source": [
    "# Virtual Coast to Coast Progress Tracker"
   ]
  },
  {
   "cell_type": "code",
   "execution_count": 1,
   "metadata": {},
   "outputs": [
    {
     "data": {
      "text/html": [
       "<script>\n",
       "code_show=true; \n",
       "function code_toggle() {\n",
       " if (code_show){\n",
       " $('div.input').hide();\n",
       " } else {\n",
       " $('div.input').show();\n",
       " }\n",
       " code_show = !code_show\n",
       "} \n",
       "$( document ).ready(code_toggle);\n",
       "</script>\n",
       "<form action=\"javascript:code_toggle()\"><input type=\"submit\" value=\"Click here to toggle on/off the raw code.\"></form>"
      ],
      "text/plain": [
       "<IPython.core.display.HTML object>"
      ]
     },
     "execution_count": 1,
     "metadata": {},
     "output_type": "execute_result"
    }
   ],
   "source": [
    "from IPython.display import HTML\n",
    "\n",
    "HTML('''<script>\n",
    "code_show=true; \n",
    "function code_toggle() {\n",
    " if (code_show){\n",
    " $('div.input').hide();\n",
    " } else {\n",
    " $('div.input').show();\n",
    " }\n",
    " code_show = !code_show\n",
    "} \n",
    "$( document ).ready(code_toggle);\n",
    "</script>\n",
    "<form action=\"javascript:code_toggle()\"><input type=\"submit\" value=\"Click here to toggle on/off the raw code.\"></form>''')"
   ]
  },
  {
   "cell_type": "code",
   "execution_count": 2,
   "metadata": {},
   "outputs": [],
   "source": [
    "import sys\n",
    "import pandas as pd\n",
    "import matplotlib.pyplot as plt\n",
    "import datetime\n",
    "import numpy as np\n",
    "from itertools import accumulate\n",
    "import gpxpy\n",
    "from geopy import distance\n",
    "from math import sqrt, floor\n",
    "#import plotly.plotly as py\n",
    "#import plotly.graph_objs as go\n",
    "import haversine\n",
    "import folium\n",
    "import re"
   ]
  },
  {
   "cell_type": "code",
   "execution_count": 3,
   "metadata": {},
   "outputs": [
    {
     "name": "stdout",
     "output_type": "stream",
     "text": [
      "         Date  Distance  cum_distance  day\n",
      "0  2021-01-01     24.94         24.94    1\n",
      "1  2021-01-02     24.00         48.94    2\n",
      "2  2021-01-03     12.00         60.94    3\n",
      "3  2021-01-04      5.42         66.36    4\n",
      "4  2021-01-05      5.75         72.11    5\n",
      "5  2021-01-06      7.30         79.41    6\n",
      "6  2021-01-07      8.50         87.91    7\n",
      "7  2021-01-08      3.50         91.41    8\n",
      "8  2021-01-09     19.30        110.71    9\n",
      "9  2021-01-10     24.25        134.96   10\n",
      "10 2021-01-11      1.50        136.46   11\n",
      "11 2021-01-12      5.50        141.96   12\n",
      "12 2021-01-13      5.00        146.96   13\n",
      "13 2021-01-14      0.00        146.96   14\n",
      "14 2021-01-15      5.80        152.76   15\n",
      "15 2021-01-16      9.50        162.26   16\n",
      "16 2021-01-17     10.40        172.66   17\n",
      "17 2021-01-18      8.60        181.26   18\n",
      "18 2021-01-19      5.80        187.06   19\n",
      "19 2021-01-20      5.47        192.53   20\n",
      "20 2021-01-21      5.32        197.85   21\n",
      "21 2021-01-22      4.73        202.58   22\n",
      "22 2021-01-23     21.37        223.95   23\n",
      "23 2021-01-24     16.29        240.24   24\n",
      "24 2021-01-25      8.10        248.34   25\n",
      "25 2021-01-26      5.50        253.84   26\n",
      "26 2021-01-27      0.00        253.84   27\n",
      "27 2021-01-28      4.58        258.42   28\n",
      "28 2021-01-29      5.21        263.63   29\n",
      "29 2021-01-30     21.32        284.95   30\n",
      "30 2021-01-31     21.51        306.46   31\n"
     ]
    }
   ],
   "source": [
    "#import files and set dates\n",
    "\n",
    "#general date handling and useful values\n",
    "first_day = datetime.datetime(2021, 1, 1)\n",
    "last_day = datetime.datetime(2021, 1, 31)\n",
    "today = datetime.datetime.today()\n",
    "dates = pd.date_range(start=first_day, end=today).tolist()\n",
    "\n",
    "#gpx of full walk, broken into segments, with some extra alternative routes\n",
    "gpx_file = open('Wainwrights-Coast-to-Coast-SWC-Walk-L7.gpx', 'r')\n",
    "#csv of 'Date' Vs. 'Distance' in km\n",
    "df_input = pd.read_csv('Virtual C2C 2021.csv')\n",
    "df_input['cum_distance'] = df_input['Distance'].cumsum()\n",
    "df_input['Date']=pd.to_datetime(df_input['Date'])\n",
    "df_input['day']=[abs((day - first_day).days)+1 for day in df_input['Date']]\n",
    "current_days = abs((today - first_day).days)+1\n",
    "current_distance = df_input['Distance'].fillna(0).sum()\n",
    "#print(current_distance)\n",
    "#print(current_days)\n",
    "print(df_input)"
   ]
  },
  {
   "cell_type": "code",
   "execution_count": 4,
   "metadata": {},
   "outputs": [],
   "source": [
    "#parsing of .gpx\n",
    "#https://pypi.org/project/gpxpy/\n",
    "\n",
    "gpx = gpxpy.parse(gpx_file)\n",
    "gpx.waypoints\n",
    "gpx.routes\n",
    "\n",
    "\n",
    "#iterate through route, extract values from list of points and segment name from route name\n",
    "df_gpx = pd.DataFrame({\"segment\":[], \"Latitude\":[], \"Longitude\":[], \"elevation\":[]})\n",
    "for route in gpx.routes:\n",
    "    longitudes=[o.longitude for o in route.points]\n",
    "    latitudes=[o.latitude for o in route.points]\n",
    "    elevations=[o.elevation for o in route.points]\n",
    "    segment = [route.name]*len(longitudes)\n",
    "    df_gpx = df_gpx.append(pd.DataFrame({\"segment\":segment,\n",
    "                                 \"Latitude\":latitudes,\n",
    "                                 \"Longitude\":longitudes,\n",
    "                                 \"elevation\":elevations}), ignore_index=True)\n",
    "df_gpx['points'] = list(zip(df_gpx.Latitude, df_gpx.Longitude))\n",
    "\n",
    "#filter out extra routes\n",
    "df_full = df_gpx\n",
    "df_days = df_gpx[df_gpx['segment'].str.startswith('Day ')]\n",
    "df_extra = df_gpx[df_gpx['segment'].str.startswith('Day ')==False]\n",
    "\n",
    "#create list of waymarkers for segments (could be extracted instead from gpx.Waypoints)\n",
    "waymarkers = ['St. Bees']\n",
    "for segment in df_days['segment'].unique():\n",
    "    waymarkers.append(re.sub('Day [0-9]* [a-zA-Z ]* to ', '', segment))"
   ]
  },
  {
   "cell_type": "code",
   "execution_count": 5,
   "metadata": {},
   "outputs": [],
   "source": [
    "#calculate distances and whether they've been completed\n",
    "#turn off false warning for chained assignment of .loc\n",
    "pd.options.mode.chained_assignment = None  # default='warn'\n",
    "\n",
    "\n",
    "alt_dif = [0]\n",
    "time_dif = [0]\n",
    "dist_hav = [0]\n",
    "dist_hav_no_alt = [0]\n",
    "dist_dif_hav_2d = [0]\n",
    "dist_completed = [True]\n",
    "for index in range(len(df_days)):\n",
    "    if index == 0:\n",
    "        pass\n",
    "    else:\n",
    "        start = df_days.loc[index-1,:]\n",
    "        stop = df_days.loc[index,:]\n",
    "        distance_hav_2d = haversine.haversine((start.Latitude, start.Longitude), (stop.Latitude, stop.Longitude))*1000\n",
    "        dist_dif_hav_2d.append(distance_hav_2d) \n",
    "        dist_hav_no_alt.append(dist_hav_no_alt[-1] + distance_hav_2d)       \n",
    "        alt_d = start.elevation - stop.elevation\n",
    "        alt_dif.append(alt_d)\n",
    "        distance_hav_3d = sqrt(distance_hav_2d**2 + (alt_d)**2)       \n",
    "        dist_hav.append(dist_hav[-1] + distance_hav_3d)\n",
    "        if dist_hav[-1] <= current_distance*1000:\n",
    "            dist_completed.append(True)\n",
    "        else:\n",
    "            dist_completed.append(False)\n",
    "        \n",
    "df_days['dist_hav_2d'] = [x / 1000 for x in dist_hav_no_alt]\n",
    "df_days['dist_hav_3d'] = [x / 1000 for x in dist_hav]\n",
    "df_days['alt_dif'] = alt_dif\n",
    "df_days['dist_dif_hav_2d'] = [x / 1000 for x in dist_dif_hav_2d]\n",
    "df_days['dist_completed'] = dist_completed\n",
    "\n",
    "\n",
    "cumsum_segment = [0]\n",
    "for i_segment in df_days['segment'].unique():\n",
    "    seg_dist = list(df_days[df_days['segment'].str.contains(i_segment)].dist_hav_2d)\n",
    "    cumsum_segment.append(max(seg_dist))\n",
    "\n",
    "#df = pd.DataFrame({'date' : dates, 'distance' : distances, 'total distance' : np.cumsum(distances)})\n",
    "final_distance = max(cumsum_segment)    \n",
    "\n",
    "\n",
    "#plt.plot(df_days['dist_hav_2d'], df_days['elevation'])\n",
    "#plt.plot(df_days['dist_hav_3d'], df_days['elevation'])\n",
    "pd.options.mode.chained_assignment = 'warn'  # default='warn'\n"
   ]
  },
  {
   "cell_type": "code",
   "execution_count": 6,
   "metadata": {},
   "outputs": [
    {
     "data": {
      "image/png": "[encoded data removed]",
      "text/plain": [
       "<Figure size 432x288 with 1 Axes>"
      ]
     },
     "metadata": {
      "needs_background": "light"
     },
     "output_type": "display_data"
    }
   ],
   "source": [
    "#generate plot\n",
    "#create and label\n",
    "plt.plot(df_input['day'], df_input['cum_distance'], '--', zorder=98)\n",
    "plt.xlabel('Day')\n",
    "plt.ylabel('Total Distance (km)')\n",
    "#plt.xticks(rotation=-45, ha='left')\n",
    "plt.fill_between(df_input['day'], df_input['cum_distance'],\n",
    "                 color='#539ecd', zorder=97)\n",
    "plt.xlim(1, max(df_input['day']))\n",
    "plt.ylim(0, 305)\n",
    "# #lines\n",
    "# # plt.plot([first_day, last_day], [final_distance, final_distance], 'k--', color='red')\n",
    "plt.plot([0, max(df_input['day'])], [0, final_distance], 'k--', color='grey', alpha=0.7, zorder=99)\n",
    "# # plt.text(last_day,final_distance,' 293 km Robin Hoods Bay', color='red')\n",
    "plt.text(current_days,current_distance+5,\n",
    "        str(round(current_distance, 1)) + ' km',\n",
    "        color='#539ecd', zorder=100,\n",
    "        horizontalalignment='center')\n",
    "\n",
    "#more lines\n",
    "for i_seg in range(len(cumsum_segment)):\n",
    "    if current_distance >= cumsum_segment[i_seg]:\n",
    "        complete = 'green'\n",
    "    else:\n",
    "        complete = 'red'\n",
    "    plt.plot([0, max(df_input['day'])], [cumsum_segment[i_seg], cumsum_segment[i_seg]],\n",
    "             'k--', color=complete, alpha = 0.3)\n",
    "    plt.text(max(df_input['day']),cumsum_segment[i_seg],\n",
    "         ' '+str(int(cumsum_segment[i_seg]))+' km '+waymarkers[i_seg],\n",
    "         color=complete)\n",
    "    #fig.tight_layout()\n",
    "    plt.savefig('progress.png', dpi=200, bbox_inches=\"tight\") \n",
    "\n"
   ]
  },
  {
   "cell_type": "code",
   "execution_count": 7,
   "metadata": {},
   "outputs": [
    {
     "ename": "ValueError",
     "evalue": "Locations is empty.",
     "output_type": "error",
     "traceback": [
      "\u001b[0;31m---------------------------------------------------------------------------\u001b[0m",
      "\u001b[0;31mStopIteration\u001b[0m                             Traceback (most recent call last)",
      "\u001b[0;32m/opt/anaconda3/lib/python3.7/site-packages/folium/utilities.py\u001b[0m in \u001b[0;36mvalidate_locations\u001b[0;34m(locations)\u001b[0m\n\u001b[1;32m     84\u001b[0m     \u001b[0;32mtry\u001b[0m\u001b[0;34m:\u001b[0m\u001b[0;34m\u001b[0m\u001b[0;34m\u001b[0m\u001b[0m\n\u001b[0;32m---> 85\u001b[0;31m         \u001b[0mnext\u001b[0m\u001b[0;34m(\u001b[0m\u001b[0miter\u001b[0m\u001b[0;34m(\u001b[0m\u001b[0mlocations\u001b[0m\u001b[0;34m)\u001b[0m\u001b[0;34m)\u001b[0m\u001b[0;34m\u001b[0m\u001b[0;34m\u001b[0m\u001b[0m\n\u001b[0m\u001b[1;32m     86\u001b[0m     \u001b[0;32mexcept\u001b[0m \u001b[0mStopIteration\u001b[0m\u001b[0;34m:\u001b[0m\u001b[0;34m\u001b[0m\u001b[0;34m\u001b[0m\u001b[0m\n",
      "\u001b[0;31mStopIteration\u001b[0m: ",
      "\nDuring handling of the above exception, another exception occurred:\n",
      "\u001b[0;31mValueError\u001b[0m                                Traceback (most recent call last)",
      "\u001b[0;32m<ipython-input-7-91945e65e0e8>\u001b[0m in \u001b[0;36m<module>\u001b[0;34m\u001b[0m\n\u001b[1;32m      9\u001b[0m \u001b[0mfolium\u001b[0m\u001b[0;34m.\u001b[0m\u001b[0mPolyLine\u001b[0m\u001b[0;34m(\u001b[0m\u001b[0mpoints\u001b[0m\u001b[0;34m,\u001b[0m \u001b[0mcolor\u001b[0m\u001b[0;34m=\u001b[0m\u001b[0;34m'green'\u001b[0m\u001b[0;34m,\u001b[0m \u001b[0mweight\u001b[0m\u001b[0;34m=\u001b[0m\u001b[0;36m4.5\u001b[0m\u001b[0;34m,\u001b[0m \u001b[0mopacity\u001b[0m\u001b[0;34m=\u001b[0m\u001b[0;36m.5\u001b[0m\u001b[0;34m)\u001b[0m\u001b[0;34m.\u001b[0m\u001b[0madd_to\u001b[0m\u001b[0;34m(\u001b[0m\u001b[0mmymap\u001b[0m\u001b[0;34m)\u001b[0m\u001b[0;34m\u001b[0m\u001b[0;34m\u001b[0m\u001b[0m\n\u001b[1;32m     10\u001b[0m \u001b[0mpoints\u001b[0m \u001b[0;34m=\u001b[0m \u001b[0mlist\u001b[0m\u001b[0;34m(\u001b[0m\u001b[0mdf_days\u001b[0m\u001b[0;34m[\u001b[0m\u001b[0mdf_days\u001b[0m\u001b[0;34m[\u001b[0m\u001b[0;34m'dist_completed'\u001b[0m\u001b[0;34m]\u001b[0m\u001b[0;34m==\u001b[0m\u001b[0;32mFalse\u001b[0m\u001b[0;34m]\u001b[0m\u001b[0;34m.\u001b[0m\u001b[0mpoints\u001b[0m\u001b[0;34m)\u001b[0m\u001b[0;34m\u001b[0m\u001b[0;34m\u001b[0m\u001b[0m\n\u001b[0;32m---> 11\u001b[0;31m \u001b[0mfolium\u001b[0m\u001b[0;34m.\u001b[0m\u001b[0mPolyLine\u001b[0m\u001b[0;34m(\u001b[0m\u001b[0mpoints\u001b[0m\u001b[0;34m,\u001b[0m \u001b[0mcolor\u001b[0m\u001b[0;34m=\u001b[0m\u001b[0;34m'red'\u001b[0m\u001b[0;34m,\u001b[0m \u001b[0mweight\u001b[0m\u001b[0;34m=\u001b[0m\u001b[0;36m4.5\u001b[0m\u001b[0;34m,\u001b[0m \u001b[0mopacity\u001b[0m\u001b[0;34m=\u001b[0m\u001b[0;36m.5\u001b[0m\u001b[0;34m)\u001b[0m\u001b[0;34m.\u001b[0m\u001b[0madd_to\u001b[0m\u001b[0;34m(\u001b[0m\u001b[0mmymap\u001b[0m\u001b[0;34m)\u001b[0m\u001b[0;34m\u001b[0m\u001b[0;34m\u001b[0m\u001b[0m\n\u001b[0m\u001b[1;32m     12\u001b[0m \u001b[0;34m\u001b[0m\u001b[0m\n\u001b[1;32m     13\u001b[0m \u001b[0;31m#add progress marker\u001b[0m\u001b[0;34m\u001b[0m\u001b[0;34m\u001b[0m\u001b[0;34m\u001b[0m\u001b[0m\n",
      "\u001b[0;32m/opt/anaconda3/lib/python3.7/site-packages/folium/vector_layers.py\u001b[0m in \u001b[0;36m__init__\u001b[0;34m(self, locations, popup, tooltip, **kwargs)\u001b[0m\n\u001b[1;32m    157\u001b[0m \u001b[0;34m\u001b[0m\u001b[0m\n\u001b[1;32m    158\u001b[0m     \u001b[0;32mdef\u001b[0m \u001b[0m__init__\u001b[0m\u001b[0;34m(\u001b[0m\u001b[0mself\u001b[0m\u001b[0;34m,\u001b[0m \u001b[0mlocations\u001b[0m\u001b[0;34m,\u001b[0m \u001b[0mpopup\u001b[0m\u001b[0;34m=\u001b[0m\u001b[0;32mNone\u001b[0m\u001b[0;34m,\u001b[0m \u001b[0mtooltip\u001b[0m\u001b[0;34m=\u001b[0m\u001b[0;32mNone\u001b[0m\u001b[0;34m,\u001b[0m \u001b[0;34m**\u001b[0m\u001b[0mkwargs\u001b[0m\u001b[0;34m)\u001b[0m\u001b[0;34m:\u001b[0m\u001b[0;34m\u001b[0m\u001b[0;34m\u001b[0m\u001b[0m\n\u001b[0;32m--> 159\u001b[0;31m         \u001b[0msuper\u001b[0m\u001b[0;34m(\u001b[0m\u001b[0mPolyLine\u001b[0m\u001b[0;34m,\u001b[0m \u001b[0mself\u001b[0m\u001b[0;34m)\u001b[0m\u001b[0;34m.\u001b[0m\u001b[0m__init__\u001b[0m\u001b[0;34m(\u001b[0m\u001b[0mlocations\u001b[0m\u001b[0;34m,\u001b[0m \u001b[0mpopup\u001b[0m\u001b[0;34m=\u001b[0m\u001b[0mpopup\u001b[0m\u001b[0;34m,\u001b[0m \u001b[0mtooltip\u001b[0m\u001b[0;34m=\u001b[0m\u001b[0mtooltip\u001b[0m\u001b[0;34m)\u001b[0m\u001b[0;34m\u001b[0m\u001b[0;34m\u001b[0m\u001b[0m\n\u001b[0m\u001b[1;32m    160\u001b[0m         \u001b[0mself\u001b[0m\u001b[0;34m.\u001b[0m\u001b[0m_name\u001b[0m \u001b[0;34m=\u001b[0m \u001b[0;34m'PolyLine'\u001b[0m\u001b[0;34m\u001b[0m\u001b[0;34m\u001b[0m\u001b[0m\n\u001b[1;32m    161\u001b[0m         \u001b[0mself\u001b[0m\u001b[0;34m.\u001b[0m\u001b[0moptions\u001b[0m \u001b[0;34m=\u001b[0m \u001b[0mpath_options\u001b[0m\u001b[0;34m(\u001b[0m\u001b[0mline\u001b[0m\u001b[0;34m=\u001b[0m\u001b[0;32mTrue\u001b[0m\u001b[0;34m,\u001b[0m \u001b[0;34m**\u001b[0m\u001b[0mkwargs\u001b[0m\u001b[0;34m)\u001b[0m\u001b[0;34m\u001b[0m\u001b[0;34m\u001b[0m\u001b[0m\n",
      "\u001b[0;32m/opt/anaconda3/lib/python3.7/site-packages/folium/vector_layers.py\u001b[0m in \u001b[0;36m__init__\u001b[0;34m(self, locations, popup, tooltip)\u001b[0m\n\u001b[1;32m    109\u001b[0m     \u001b[0;32mdef\u001b[0m \u001b[0m__init__\u001b[0m\u001b[0;34m(\u001b[0m\u001b[0mself\u001b[0m\u001b[0;34m,\u001b[0m \u001b[0mlocations\u001b[0m\u001b[0;34m,\u001b[0m \u001b[0mpopup\u001b[0m\u001b[0;34m=\u001b[0m\u001b[0;32mNone\u001b[0m\u001b[0;34m,\u001b[0m \u001b[0mtooltip\u001b[0m\u001b[0;34m=\u001b[0m\u001b[0;32mNone\u001b[0m\u001b[0;34m)\u001b[0m\u001b[0;34m:\u001b[0m\u001b[0;34m\u001b[0m\u001b[0;34m\u001b[0m\u001b[0m\n\u001b[1;32m    110\u001b[0m         \u001b[0msuper\u001b[0m\u001b[0;34m(\u001b[0m\u001b[0mBaseMultiLocation\u001b[0m\u001b[0;34m,\u001b[0m \u001b[0mself\u001b[0m\u001b[0;34m)\u001b[0m\u001b[0;34m.\u001b[0m\u001b[0m__init__\u001b[0m\u001b[0;34m(\u001b[0m\u001b[0;34m)\u001b[0m\u001b[0;34m\u001b[0m\u001b[0;34m\u001b[0m\u001b[0m\n\u001b[0;32m--> 111\u001b[0;31m         \u001b[0mself\u001b[0m\u001b[0;34m.\u001b[0m\u001b[0mlocations\u001b[0m \u001b[0;34m=\u001b[0m \u001b[0mvalidate_locations\u001b[0m\u001b[0;34m(\u001b[0m\u001b[0mlocations\u001b[0m\u001b[0;34m)\u001b[0m\u001b[0;34m\u001b[0m\u001b[0;34m\u001b[0m\u001b[0m\n\u001b[0m\u001b[1;32m    112\u001b[0m         \u001b[0;32mif\u001b[0m \u001b[0mpopup\u001b[0m \u001b[0;32mis\u001b[0m \u001b[0;32mnot\u001b[0m \u001b[0;32mNone\u001b[0m\u001b[0;34m:\u001b[0m\u001b[0;34m\u001b[0m\u001b[0;34m\u001b[0m\u001b[0m\n\u001b[1;32m    113\u001b[0m             self.add_child(popup if isinstance(popup, Popup)\n",
      "\u001b[0;32m/opt/anaconda3/lib/python3.7/site-packages/folium/utilities.py\u001b[0m in \u001b[0;36mvalidate_locations\u001b[0;34m(locations)\u001b[0m\n\u001b[1;32m     85\u001b[0m         \u001b[0mnext\u001b[0m\u001b[0;34m(\u001b[0m\u001b[0miter\u001b[0m\u001b[0;34m(\u001b[0m\u001b[0mlocations\u001b[0m\u001b[0;34m)\u001b[0m\u001b[0;34m)\u001b[0m\u001b[0;34m\u001b[0m\u001b[0;34m\u001b[0m\u001b[0m\n\u001b[1;32m     86\u001b[0m     \u001b[0;32mexcept\u001b[0m \u001b[0mStopIteration\u001b[0m\u001b[0;34m:\u001b[0m\u001b[0;34m\u001b[0m\u001b[0;34m\u001b[0m\u001b[0m\n\u001b[0;32m---> 87\u001b[0;31m         \u001b[0;32mraise\u001b[0m \u001b[0mValueError\u001b[0m\u001b[0;34m(\u001b[0m\u001b[0;34m'Locations is empty.'\u001b[0m\u001b[0;34m)\u001b[0m\u001b[0;34m\u001b[0m\u001b[0;34m\u001b[0m\u001b[0m\n\u001b[0m\u001b[1;32m     88\u001b[0m     \u001b[0;32mtry\u001b[0m\u001b[0;34m:\u001b[0m\u001b[0;34m\u001b[0m\u001b[0;34m\u001b[0m\u001b[0m\n\u001b[1;32m     89\u001b[0m         \u001b[0mfloat\u001b[0m\u001b[0;34m(\u001b[0m\u001b[0mnext\u001b[0m\u001b[0;34m(\u001b[0m\u001b[0miter\u001b[0m\u001b[0;34m(\u001b[0m\u001b[0mnext\u001b[0m\u001b[0;34m(\u001b[0m\u001b[0miter\u001b[0m\u001b[0;34m(\u001b[0m\u001b[0mnext\u001b[0m\u001b[0;34m(\u001b[0m\u001b[0miter\u001b[0m\u001b[0;34m(\u001b[0m\u001b[0mlocations\u001b[0m\u001b[0;34m)\u001b[0m\u001b[0;34m)\u001b[0m\u001b[0;34m)\u001b[0m\u001b[0;34m)\u001b[0m\u001b[0;34m)\u001b[0m\u001b[0;34m)\u001b[0m\u001b[0;34m)\u001b[0m\u001b[0;34m\u001b[0m\u001b[0;34m\u001b[0m\u001b[0m\n",
      "\u001b[0;31mValueError\u001b[0m: Locations is empty."
     ]
    }
   ],
   "source": [
    "#create map\n",
    "mymap = folium.Map( location=[ df_days.Latitude.mean(), df_days.Longitude.mean() ], zoom_start=8, tiles=None)\n",
    "folium.TileLayer('openstreetmap', name='OpenStreet Map').add_to(mymap)\n",
    "folium.TileLayer('https://server.arcgisonline.com/ArcGIS/rest/services/NatGeo_World_Map/MapServer/tile/{z}/{y}/{x}', attr='Tiles &copy; Esri &mdash; National Geographic, Esri, DeLorme, NAVTEQ, UNEP-WCMC, USGS, NASA, ESA, METI, NRCAN, GEBCO, NOAA, iPC', name='Nat Geo Map').add_to(mymap)\n",
    "folium.TileLayer('http://tile.stamen.com/terrain/{z}/{x}/{y}.jpg', attr='terrain-bcg', name='Terrain Map').add_to(mymap)\n",
    "\n",
    "#create lines colored by complete\n",
    "points = list(df_days[df_days['dist_completed']==True].points)\n",
    "folium.PolyLine(points, color='green', weight=4.5, opacity=.5).add_to(mymap)\n",
    "points = list(df_days[df_days['dist_completed']==False].points)\n",
    "folium.PolyLine(points, color='red', weight=4.5, opacity=.5).add_to(mymap)\n",
    "\n",
    "#add progress marker\n",
    "prog_message=('Days: '+str(current_days)+\n",
    "              ' Progress: '+str(round(current_distance, 1))+' km'+\n",
    "              ', Remaining: '+str(round(final_distance-current_distance, 1))+' km')\n",
    "pophtml = folium.Html('<b>'+prog_message+'</b><img src=\"progress.png\" width=400 height=200>', script=True)\n",
    "folium.Marker(\n",
    "    location=list(df_days[df_days['dist_completed']==True].points)[-1],\n",
    "    popup=folium.Popup(pophtml, max_width=400, max_height=250),\n",
    "    icon=folium.Icon(icon=\"cloud\"),\n",
    ").add_to(mymap)\n",
    "\n",
    "#add waypoint markers\n",
    "folium.Marker(\n",
    "    location=df_days.points[0],\n",
    "    popup=waymarkers[0],\n",
    "    icon=folium.Icon(icon=\"cloud\", color='green'),\n",
    ").add_to(mymap)\n",
    "segments = df_days['segment'].unique()\n",
    "for i_way in range(1, len(waymarkers)):\n",
    "    if current_distance >= cumsum_segment[i_way]:\n",
    "        complete = 'green'\n",
    "    else:\n",
    "        complete = 'red'\n",
    "    segment = segments[i_way-1]\n",
    "    seg_points = list(df_days[df_days['segment'].str.contains(segment)].points)\n",
    "    folium.Marker(\n",
    "        location=seg_points[-1],\n",
    "        popup=waymarkers[i_way],\n",
    "        icon=folium.Icon(icon=\"info-sign\", color=complete),\n",
    "    ).add_to(mymap)\n",
    "\n",
    "#img = ('progress.png')\n",
    "#image = (img, bottom = 40,left =65).add_to(mymap)\n",
    "\n",
    "mymap"
   ]
  },
  {
   "cell_type": "code",
   "execution_count": null,
   "metadata": {},
   "outputs": [],
   "source": []
  },
  {
   "cell_type": "code",
   "execution_count": null,
   "metadata": {},
   "outputs": [],
   "source": []
  }
 ],
 "metadata": {
  "kernelspec": {
   "display_name": "Python 3",
   "language": "python",
   "name": "python3"
  },
  "language_info": {
   "codemirror_mode": {
    "name": "ipython",
    "version": 3
   },
   "file_extension": ".py",
   "mimetype": "text/x-python",
   "name": "python",
   "nbconvert_exporter": "python",
   "pygments_lexer": "ipython3",
   "version": "3.7.4"
  }
 },
 "nbformat": 4,
 "nbformat_minor": 2
}
